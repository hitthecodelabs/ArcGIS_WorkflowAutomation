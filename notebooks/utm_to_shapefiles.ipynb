{
 "cells": [
  {
   "cell_type": "code",
   "execution_count": 34,
   "metadata": {},
   "outputs": [],
   "source": [
    "import arcpy\n",
    "from glob import glob"
   ]
  },
  {
   "cell_type": "code",
   "execution_count": null,
   "metadata": {},
   "outputs": [],
   "source": [
    "def create_kml_from_utm(coordinates, output_folder, kml_name=\"polygon.kml\", utm_zone=17, hemisphere=\"S\"):\n",
    "    \"\"\"\n",
    "    Creates a KML file from given UTM coordinates.\n",
    "\n",
    "    Parameters:\n",
    "    - coordinates: List of (X, Y) tuples representing UTM coordinates.\n",
    "    - output_folder: Path to the folder where the KML will be saved.\n",
    "    - kml_name: Name of the output KML file (default: \"polygon.kml\").\n",
    "    - utm_zone: UTM Zone number (default: 17).\n",
    "    - hemisphere: \"N\" for North or \"S\" for South (default: \"S\" for Southern Hemisphere\").\n",
    "\n",
    "    Returns:\n",
    "    - Path to the created KML file.\n",
    "    \"\"\"\n",
    "\n",
    "    # Select correct EPSG code based on hemisphere\n",
    "    epsg_code = 32600 + utm_zone if hemisphere.upper() == \"N\" else 32700 + utm_zone\n",
    "    spatial_ref_utm = arcpy.SpatialReference(epsg_code)\n",
    "    spatial_ref_wgs84 = arcpy.SpatialReference(4326)  # KML requires WGS 84 (EPSG: 4326)\n",
    "\n",
    "    # Ensure the polygon is closed\n",
    "    if coordinates[0] != coordinates[-1]:\n",
    "        coordinates.append(coordinates[0])  # Closing the polygon\n",
    "\n",
    "    # Create Polygon Geometry\n",
    "    polygon = arcpy.Polygon(arcpy.Array([arcpy.Point(x, y) for x, y in coordinates]), spatial_ref_utm)\n",
    "\n",
    "    # Define output paths\n",
    "    temp_gdb = os.path.join(output_folder, \"temp.gdb\")\n",
    "    polygon_fc = os.path.join(temp_gdb, \"PolygonFeature\")\n",
    "    kml_path = os.path.join(output_folder, kml_name)\n",
    "\n",
    "    # Ensure output folder and geodatabase exist\n",
    "    if not os.path.exists(output_folder):\n",
    "        os.makedirs(output_folder)\n",
    "    \n",
    "    if not arcpy.Exists(temp_gdb):\n",
    "        arcpy.CreateFileGDB_management(output_folder, \"temp.gdb\")\n",
    "\n",
    "    # Create Feature Class to store the polygon\n",
    "    arcpy.CreateFeatureclass_management(temp_gdb, \"PolygonFeature\", \"POLYGON\", spatial_reference=spatial_ref_utm)\n",
    "\n",
    "    # Insert the polygon into the feature class\n",
    "    with arcpy.da.InsertCursor(polygon_fc, [\"SHAPE@\"]) as cursor:\n",
    "        cursor.insertRow([polygon])\n",
    "\n",
    "    # Project the feature class to WGS 84 (for KML compatibility)\n",
    "    projected_fc = os.path.join(temp_gdb, \"PolygonProjected\")\n",
    "    arcpy.Project_management(polygon_fc, projected_fc, spatial_ref_wgs84)\n",
    "\n",
    "    # Export the projected polygon to KML\n",
    "    arcpy.LayerToKML_conversion(projected_fc, kml_path)\n",
    "\n",
    "    print(f\"KML file created successfully at: {kml_path}\")\n",
    "    return kml_path"
   ]
  },
  {
   "cell_type": "code",
   "execution_count": 10,
   "metadata": {},
   "outputs": [
    {
     "data": {
      "text/html": [
       "<style>table td#td0  {font-weight: bold}</style><table class=\"notebook\"><colgroup><col style=\"width:45%\"></col><col style=\"width:55%\"></col></colgroup><tr><td id = \"td0\" title=\"name (Projected Coordinate System)\">name (Projected Coordinate System)</td><td title=\"WGS_1984_UTM_Zone_17S\">WGS_1984_UTM_Zone_17S</td></tr><tr><td id = \"td0\" title=\"factoryCode (WKID)\">factoryCode (WKID)</td><td title=\"32717\">32717</td></tr><tr><td id = \"td0\" title=\"linearUnitName (Linear Unit)\">linearUnitName (Linear Unit)</td><td title=\"Meter\">Meter</td></tr></table><div class=\"subtitle\">spatialReference.GCS</div><style>table td#td0  {font-weight: bold}</style><table class=\"notebook\"><colgroup><col style=\"width:45%\"></col><col style=\"width:55%\"></col></colgroup><tr><td id = \"td0\" title=\"name (Geographic Coordinate System)\">name (Geographic Coordinate System)</td><td title=\"GCS_WGS_1984\">GCS_WGS_1984</td></tr><tr><td id = \"td0\" title=\"factoryCode (WKID)\">factoryCode (WKID)</td><td title=\"4326\">4326</td></tr><tr><td id = \"td0\" title=\"angularUnitName (Angular Unit)\">angularUnitName (Angular Unit)</td><td title=\"Degree\">Degree</td></tr><tr><td id = \"td0\" title=\"datumName (Datum)\">datumName (Datum)</td><td title=\"D_WGS_1984\">D_WGS_1984</td></tr></table>"
      ],
      "text/plain": [
       "<SpatialReference object at 0x220b6a479d0[0x220b6a0a4d0]>"
      ]
     },
     "execution_count": 10,
     "metadata": {},
     "output_type": "execute_result"
    }
   ],
   "source": [
    "# Define the spatial reference for UTM Zone 17S\n",
    "spatial_ref = arcpy.SpatialReference(32717)  # UTM Zone 17S (Southern Hemisphere)\n",
    "spatial_ref"
   ]
  },
  {
   "cell_type": "code",
   "execution_count": null,
   "metadata": {},
   "outputs": [],
   "source": [
    "# Define coordinates as [(X1, Y1), (X2, Y2), ...] (replace with your actual coordinates)\n",
    "coordinates = []\n",
    "coordinates"
   ]
  },
  {
   "cell_type": "code",
   "execution_count": 19,
   "metadata": {},
   "outputs": [
    {
     "data": {
      "image/svg+xml": [
       "<svg xmlns=\"http://www.w3.org/2000/svg\" xmlns:xlink=\"http://www.w3.org/1999/xlink\" width=\"300\" height=\"300\" viewBox=\"533709.576 9884747.976 767.4479999999749 539.6480000000447\" preserveAspectRatio=\"xMinYMin meet\"><g transform=\"matrix(1,0,0,-1,0,19770035.6)\"><path fill-rule=\"evenodd\" fill=\"#66cc99\" stroke=\"#555555\" stroke-width=\"5.116319999999832\" opacity=\"0.6\" d=\" M 533738,9885221 L 533912,9885245 L 533963,9885229 L 534378.4,9885259.2 L 534386,9885235 L 534448.6,9885153.9 L 534335.3,9885141.9 L 534271.1,9885122.3 L 534225.2,9885094.2 L 534295.9,9885031.1 L 534227.9,9885021.3 L 534102.4,9884986.4 L 534004.3,9885001.1 L 533990.7,9884875.2 L 534002.4,9884776.4 L 533847.7,9884792.1 L 533770,9885014 L 533738,9885221 z\" /></g></svg>"
      ],
      "text/plain": [
       "<Polygon object at 0x220b6b95150[0x220b6c4d620]>"
      ]
     },
     "execution_count": 19,
     "metadata": {},
     "output_type": "execute_result"
    }
   ],
   "source": [
    "# Create a polygon\n",
    "polygon = arcpy.Polygon(arcpy.Array([arcpy.Point(x, y) for x, y in coordinates]), spatial_ref)\n",
    "polygon"
   ]
  },
  {
   "cell_type": "code",
   "execution_count": 21,
   "metadata": {},
   "outputs": [
    {
     "data": {
      "text/html": [
       "<div class='gpresult'><h2 class='msg-title'>Messages</h2><div id='messages'>Start Time: Friday, March 7, 2025 09:12:58<br>Succeeded at Friday, March 7, 2025 09:13:04 (Elapsed Time: 6.31 seconds)<br></div><div id = 'default' /></div></div>"
      ],
      "text/plain": [
       "<Result 'C:\\\\Users\\\\J.Paul\\\\Desktop\\\\EstudioDeCobertura\\\\MESES\\\\data_arcpy\\\\cedeno_cedeno.shp'>"
      ]
     },
     "execution_count": 21,
     "metadata": {},
     "output_type": "execute_result"
    }
   ],
   "source": [
    "# Create a feature class to store the polygon\n",
    "output_fc = \"cedeno_cedeno.shp\"\n",
    "arcpy.CreateFeatureclass_management(\"./\", output_fc, \"POLYGON\", spatial_reference=spatial_ref)"
   ]
  },
  {
   "cell_type": "code",
   "execution_count": 22,
   "metadata": {},
   "outputs": [
    {
     "name": "stdout",
     "output_type": "stream",
     "text": [
      "Polygon created successfully in UTM Zone 17S!\n"
     ]
    }
   ],
   "source": [
    "# Insert the polygon into the feature class\n",
    "with arcpy.da.InsertCursor(output_fc, [\"SHAPE@\"]) as cursor:cursor.insertRow([polygon])\n",
    "    \n",
    "print(\"Polygon created successfully in UTM Zone 17S!\")"
   ]
  },
  {
   "cell_type": "code",
   "execution_count": null,
   "metadata": {},
   "outputs": [],
   "source": []
  }
 ],
 "metadata": {
  "kernelspec": {
   "display_name": "ArcGISPro",
   "language": "python",
   "name": "python3"
  },
  "language_info": {
   "file_extension": ".py",
   "mimetype": "text/x-python",
   "name": "python",
   "version": "3.11.10"
  }
 },
 "nbformat": 4,
 "nbformat_minor": 4
}
