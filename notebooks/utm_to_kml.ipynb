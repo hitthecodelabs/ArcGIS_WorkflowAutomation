{
 "cells": [
  {
   "cell_type": "code",
   "execution_count": 27,
   "metadata": {},
   "outputs": [],
   "source": [
    "import os\n",
    "import arcpy"
   ]
  },
  {
   "cell_type": "code",
   "execution_count": 32,
   "metadata": {},
   "outputs": [],
   "source": [
    "def create_kml_from_utm(coordinates, output_folder, kml_name=\"polygon.kml\", utm_zone=17, hemisphere=\"S\"):\n",
    "    \"\"\"\n",
    "    Creates a KML file from given UTM coordinates.\n",
    "\n",
    "    Parameters:\n",
    "    - coordinates: List of (X, Y) tuples representing UTM coordinates.\n",
    "    - output_folder: Path to the folder where the KML will be saved.\n",
    "    - kml_name: Name of the output KML file (default: \"polygon.kml\").\n",
    "    - utm_zone: UTM Zone number (default: 17).\n",
    "    - hemisphere: \"N\" for North or \"S\" for South (default: \"S\" for Southern Hemisphere\").\n",
    "\n",
    "    Returns:\n",
    "    - Path to the created KML file.\n",
    "    \"\"\"\n",
    "\n",
    "    # Select correct EPSG code based on hemisphere\n",
    "    epsg_code = 32600 + utm_zone if hemisphere.upper() == \"N\" else 32700 + utm_zone\n",
    "    spatial_ref_utm = arcpy.SpatialReference(epsg_code)\n",
    "    spatial_ref_wgs84 = arcpy.SpatialReference(4326)  # KML requires WGS 84 (EPSG: 4326)\n",
    "\n",
    "    # Ensure the polygon is closed\n",
    "    if coordinates[0] != coordinates[-1]:\n",
    "        coordinates.append(coordinates[0])  # Closing the polygon\n",
    "\n",
    "    # Create Polygon Geometry\n",
    "    polygon = arcpy.Polygon(arcpy.Array([arcpy.Point(x, y) for x, y in coordinates]), spatial_ref_utm)\n",
    "\n",
    "    # Define output paths\n",
    "    temp_gdb = os.path.join(output_folder, \"temp.gdb\")\n",
    "    polygon_fc = os.path.join(temp_gdb, \"PolygonFeature\")\n",
    "    kml_path = os.path.join(output_folder, kml_name)\n",
    "\n",
    "    # Ensure output folder and geodatabase exist\n",
    "    if not os.path.exists(output_folder):\n",
    "        os.makedirs(output_folder)\n",
    "    \n",
    "    if not arcpy.Exists(temp_gdb):\n",
    "        arcpy.CreateFileGDB_management(output_folder, \"temp.gdb\")\n",
    "\n",
    "    # Create Feature Class to store the polygon\n",
    "    arcpy.CreateFeatureclass_management(temp_gdb, \"PolygonFeature\", \"POLYGON\", spatial_reference=spatial_ref_utm)\n",
    "\n",
    "    # Insert the polygon into the feature class\n",
    "    with arcpy.da.InsertCursor(polygon_fc, [\"SHAPE@\"]) as cursor:\n",
    "        cursor.insertRow([polygon])\n",
    "\n",
    "    # Project the feature class to WGS 84 (for KML compatibility)\n",
    "    projected_fc = os.path.join(temp_gdb, \"PolygonProjected\")\n",
    "    arcpy.Project_management(polygon_fc, projected_fc, spatial_ref_wgs84)\n",
    "\n",
    "    # Create a layer from the projected feature class\n",
    "    polygon_layer = \"PolygonLayer\"\n",
    "    arcpy.MakeFeatureLayer_management(projected_fc, polygon_layer)\n",
    "\n",
    "    # Export the layer to KML\n",
    "    arcpy.LayerToKML_conversion(polygon_layer, kml_path)\n",
    "\n",
    "    print(f\"KML file created successfully at: {kml_path}\")\n",
    "    return kml_path"
   ]
  },
  {
   "cell_type": "code",
   "execution_count": 33,
   "metadata": {},
   "outputs": [
    {
     "name": "stdout",
     "output_type": "stream",
     "text": [
      "KML file created successfully at: ./cedeno_cedeno.kml\n"
     ]
    }
   ],
   "source": [
    "# Example usage\n",
    "utm_coordinates = []\n",
    "\n",
    "# Call the function with the output directory\n",
    "output_kml = create_kml_from_utm(utm_coordinates, output_folder=\"./\", kml_name=\"cedeno_cedeno.kml\")"
   ]
  },
  {
   "cell_type": "code",
   "execution_count": null,
   "metadata": {},
   "outputs": [],
   "source": []
  }
 ],
 "metadata": {
  "kernelspec": {
   "display_name": "ArcGISPro",
   "language": "python",
   "name": "python3"
  },
  "language_info": {
   "file_extension": ".py",
   "mimetype": "text/x-python",
   "name": "python",
   "version": "3.11.10"
  }
 },
 "nbformat": 4,
 "nbformat_minor": 4
}
